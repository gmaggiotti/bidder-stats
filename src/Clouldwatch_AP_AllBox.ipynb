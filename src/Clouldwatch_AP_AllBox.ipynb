{
 "cells": [
  {
   "cell_type": "markdown",
   "metadata": {},
   "source": [
    "# Asia Pacific AllBox Histogram\n",
    " Histograma aproximado con Presto"
   ]
  },
  {
   "cell_type": "code",
   "execution_count": 20,
   "metadata": {},
   "outputs": [
    {
     "data": {
      "text/plain": [
       "'done'"
      ]
     },
     "execution_count": 20,
     "metadata": {},
     "output_type": "execute_result"
    }
   ],
   "source": [
    "from stats_util import get_cloudwatch_eff_histogram\n",
    "%matplotlib inline\n",
    "import pandas as pd\n",
    "from matplotlib import pyplot as plt\n",
    "from matplotlib.ticker import FuncFormatter\n",
    "import numpy as np\n",
    "import math\n",
    "from datetime import datetime\n",
    "\n",
    "time, cap = get_cloudwatch_eff_histogram(datetime(2018, 12, 13),datetime(2018, 12, 18),'ap-southeast-1','cap')\n",
    "time, cap_silver = get_cloudwatch_eff_histogram(datetime(2018, 12, 20),datetime(2018, 12, 25),'ap-southeast-1','cap')\n",
    "\n",
    "time, eff = get_cloudwatch_eff_histogram(datetime(2018, 12, 13),datetime(2018, 12, 18),'ap-southeast-1','eff')\n",
    "time, eff_silver = get_cloudwatch_eff_histogram(datetime(2018, 12, 20),datetime(2018, 12, 25),'ap-southeast-1','eff')\n",
    "\n",
    "time, bids = get_cloudwatch_eff_histogram(datetime(2018, 12, 13),datetime(2018, 12, 18),'ap-southeast-1','bids')\n",
    "time, bids_silver = get_cloudwatch_eff_histogram(datetime(2018, 12, 20),datetime(2018, 12, 25),'ap-southeast-1','bids')\n",
    "\"done\""
   ]
  },
  {
   "cell_type": "code",
   "execution_count": 23,
   "metadata": {
    "scrolled": false
   },
   "outputs": [
    {
     "data": {
      "image/png": "[encoded data removed]",
      "text/plain": [
       "<Figure size 432x288 with 1 Axes>"
      ]
     },
     "metadata": {
      "needs_background": "light"
     },
     "output_type": "display_data"
    }
   ],
   "source": [
    "def millions(x, pos):\n",
    "    'The two args are the value and tick position'\n",
    "    return '$%1.1fM' % (x * 1e-6)\n",
    "cap = np.array(cap)\n",
    "cap_silver = np.array(cap_silver)\n",
    "plt.hist([cap, cap_silver], bins=50, label=['canary', 'silver'])\n",
    "\n",
    "plt.title('qps_cap distribution')\n",
    "plt.xlabel('qps_cap')\n",
    "plt.ylabel('freq')\n",
    "plt.legend()\n",
    "plt.show()"
   ]
  },
  {
   "cell_type": "code",
   "execution_count": 16,
   "metadata": {},
   "outputs": [
    {
     "data": {
      "text/plain": [
       "(315.55191524525134,\n",
       " 60.037861424568355,\n",
       " 400.91016331534723,\n",
       " 102.19127011066297)"
      ]
     },
     "execution_count": 16,
     "metadata": {},
     "output_type": "execute_result"
    }
   ],
   "source": [
    "(cap.mean(),math.sqrt(cap.var()), cap_silver.mean(),math.sqrt(cap_silver.var()))"
   ]
  },
  {
   "cell_type": "markdown",
   "metadata": {},
   "source": [
    "  ### Chi Square Test\n",
    "Determine whether there is a significant difference between the expected frequencies and the observed frequencies in one or more categories.\n",
    "\n",
    "H0: Both distribution frequencies of Non-Silver and Silver are equals\n",
    "H1: Samples form Silver and Non-Silver belongs to two diferent distributions\n",
    "\n",
    "PD: try  Kolmogorov–Smirnov test \n"
   ]
  },
  {
   "cell_type": "code",
   "execution_count": 17,
   "metadata": {
    "scrolled": false
   },
   "outputs": [
    {
     "data": {
      "text/plain": [
       "(1329.1904268728633, 1.6600819058371214e-150, 239)"
      ]
     },
     "execution_count": 17,
     "metadata": {},
     "output_type": "execute_result"
    }
   ],
   "source": [
    "from scipy import stats\n",
    "\n",
    "\n",
    "dice = np.array([cap,cap_silver])\n",
    "stats.chi2_contingency(dice)\n",
    "chi2_stat, p_val, dof, ex = stats.chi2_contingency(dice)\n",
    "chi2_stat, p_val, dof"
   ]
  },
  {
   "cell_type": "code",
   "execution_count": 21,
   "metadata": {},
   "outputs": [
    {
     "data": {
      "image/png": "[encoded data removed]",
      "text/plain": [
       "<Figure size 432x288 with 1 Axes>"
      ]
     },
     "metadata": {
      "needs_background": "light"
     },
     "output_type": "display_data"
    },
    {
     "data": {
      "text/plain": [
       "(179.6929410410242, 15.256508966985775, 194.17695273179433, 20.501476716939585)"
      ]
     },
     "execution_count": 21,
     "metadata": {},
     "output_type": "execute_result"
    }
   ],
   "source": [
    "eff = np.array(eff)\n",
    "eff_silver = np.array(eff_silver)\n",
    "plt.hist([eff, eff_silver], bins=50, label=['canary', 'silver'])\n",
    "\n",
    "plt.title('qps_eff distribution')\n",
    "plt.xlabel('qps_eff')\n",
    "plt.ylabel('freq')\n",
    "plt.legend()\n",
    "plt.show()\n",
    "(eff.mean(),math.sqrt(eff.var()), eff_silver.mean(),math.sqrt(eff_silver.var()))"
   ]
  },
  {
   "cell_type": "code",
   "execution_count": 22,
   "metadata": {},
   "outputs": [
    {
     "data": {
      "image/png": "[encoded data removed]",
      "text/plain": [
       "<Figure size 432x288 with 1 Axes>"
      ]
     },
     "metadata": {
      "needs_background": "light"
     },
     "output_type": "display_data"
    },
    {
     "data": {
      "text/plain": [
       "(18.03059677582162, 8.937732647936416, 16.65295369410147, 7.5656738780463435)"
      ]
     },
     "execution_count": 22,
     "metadata": {},
     "output_type": "execute_result"
    }
   ],
   "source": [
    "bids = np.array(bids)\n",
    "bids_silver = np.array(bids_silver)\n",
    "plt.hist([bids, bids_silver], bins=50, label=['canary', 'silver'])\n",
    "\n",
    "plt.title('bids distribution')\n",
    "plt.xlabel('bids')\n",
    "plt.ylabel('freq')\n",
    "plt.legend()\n",
    "plt.show()\n",
    "(bids.mean(),math.sqrt(bids.var()), bids_silver.mean(),math.sqrt(bids_silver.var()))"
   ]
  }
 ],
 "metadata": {
  "kernelspec": {
   "display_name": "Python 3",
   "language": "python",
   "name": "python3"
  },
  "language_info": {
   "codemirror_mode": {
    "name": "ipython",
    "version": 3
   },
   "file_extension": ".py",
   "mimetype": "text/x-python",
   "name": "python",
   "nbconvert_exporter": "python",
   "pygments_lexer": "ipython3",
   "version": "3.5.2"
  }
 },
 "nbformat": 4,
 "nbformat_minor": 1
}

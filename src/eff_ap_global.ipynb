{
 "cells": [
  {
   "cell_type": "markdown",
   "metadata": {},
   "source": [
    "# Asia Pacific Bids Histogram\n",
    " Histograma aproximado con Presto"
   ]
  },
  {
   "cell_type": "code",
   "execution_count": 22,
   "metadata": {},
   "outputs": [
    {
     "data": {
      "text/plain": [
       "'done'"
      ]
     },
     "execution_count": 22,
     "metadata": {},
     "output_type": "execute_result"
    }
   ],
   "source": [
    "from stats_util import get_cloudwatch_eff_histogram\n",
    "%matplotlib inline\n",
    "import pandas as pd\n",
    "from matplotlib import pyplot as plt\n",
    "from matplotlib.ticker import FuncFormatter\n",
    "import numpy as np\n",
    "import math\n",
    "from datetime import datetime\n",
    "\n",
    "time, eff = get_cloudwatch_eff_histogram(datetime(2018, 12, 13),datetime(2018, 12, 18),'ap-southeast-1')\n",
    "time, eff_silver = get_cloudwatch_eff_histogram(datetime(2018, 12, 20),datetime(2018, 12, 25),'ap-southeast-1')\n",
    "\"done\""
   ]
  },
  {
   "cell_type": "code",
   "execution_count": 23,
   "metadata": {
    "scrolled": false
   },
   "outputs": [
    {
     "data": {
      "image/png": "[encoded data removed]",
      "text/plain": [
       "<Figure size 432x288 with 1 Axes>"
      ]
     },
     "metadata": {
      "needs_background": "light"
     },
     "output_type": "display_data"
    }
   ],
   "source": [
    "def millions(x, pos):\n",
    "    'The two args are the value and tick position'\n",
    "    return '$%1.1fM' % (x * 1e-6)\n",
    "eff = np.array(eff)\n",
    "eff_silver = np.array(eff_silver)\n",
    "plt.hist([freq, freq_silver], bins=50, label=['canary', 'silver'])\n",
    "\n",
    "\n",
    "plt.xlabel('qps_eff')\n",
    "plt.ylabel('freq')\n",
    "plt.legend()\n",
    "plt.show()"
   ]
  },
  {
   "cell_type": "code",
   "execution_count": 24,
   "metadata": {},
   "outputs": [
    {
     "data": {
      "text/plain": [
       "(179.6929410410242, 15.256508966985775, 194.17695273179433, 20.501476716939585)"
      ]
     },
     "execution_count": 24,
     "metadata": {},
     "output_type": "execute_result"
    }
   ],
   "source": [
    "(eff.mean(),math.sqrt(eff.var()), eff_silver.mean(),math.sqrt(eff_silver.var()))"
   ]
  },
  {
   "cell_type": "markdown",
   "metadata": {},
   "source": [
    "  ### Chi Square Test\n",
    "Determine whether there is a significant difference between the expected frequencies and the observed frequencies in one or more categories.\n",
    "\n",
    "H0: Both distribution frequencies of Non-Silver and Silver are equals\n",
    "H1: Samples form Silver and Non-Silver belongs to two diferent distributions\n",
    "\n",
    "PD: try  Kolmogorov–Smirnov test \n"
   ]
  },
  {
   "cell_type": "code",
   "execution_count": 25,
   "metadata": {},
   "outputs": [
    {
     "data": {
      "text/plain": [
       "(129.0614892287499,\n",
       " 0.9999999993904861,\n",
       " 239,\n",
       " array([[169.44682709, 166.85226346, 161.95701568, 155.40214329,\n",
       "         154.02748539, 154.60023567, 150.82643497, 154.37765839,\n",
       "         162.58755595, 164.54440507, 166.9873195 , 168.39716635,\n",
       "         169.58214721, 166.1613804 , 167.45564728, 170.49648783,\n",
       "         167.0030544 , 167.30745315, 168.25555227, 170.65526725,\n",
       "         171.05865282, 168.35482517, 173.20117374, 171.20913566,\n",
       "         172.85414771, 166.61025413, 167.71649448, 170.48328372,\n",
       "         166.51641692, 171.06717827, 172.17644676, 169.04944939,\n",
       "         172.46455164, 167.37690127, 166.50691876, 172.90306894,\n",
       "         182.29079514, 176.24315864, 182.43269531, 181.26316326,\n",
       "         189.10171723, 196.47165733, 195.27323028, 195.98530594,\n",
       "         203.30718308, 194.38864293, 201.37694024, 202.3630892 ,\n",
       "         194.84238017, 175.07362659, 163.00724859, 163.71589117,\n",
       "         163.59029808, 158.44613081, 161.45104285, 163.84148427,\n",
       "         171.58906192, 166.71095747, 171.3126999 , 169.40162502,\n",
       "         180.67010065, 174.95661617, 173.4008639 , 168.37089017,\n",
       "         170.38863225, 175.11911475, 173.27326818, 176.84330745,\n",
       "         173.08845465, 173.81151172, 170.40122017, 170.51765842,\n",
       "         172.96143111, 169.92316536, 170.8500939 , 165.47219187,\n",
       "         170.96166863, 173.5113823 , 173.86776123, 179.15125387,\n",
       "         185.55221034, 189.94825474, 187.03014639, 195.96156055,\n",
       "         190.47245791, 192.76680409, 189.70507904, 195.56664762,\n",
       "         205.44426831, 201.96800022, 201.42557537, 195.81536904,\n",
       "         193.63022085, 193.03321021, 193.06307791, 194.32627552,\n",
       "         196.08429275, 158.63585987, 165.10625797, 170.45557709,\n",
       "         158.35372405, 159.59042101, 161.61880035, 167.43762367,\n",
       "         173.10218692, 170.36431468, 170.14974789, 169.52321287,\n",
       "         167.0290885 , 174.74794721, 165.72174955, 168.46926079,\n",
       "         174.24658715, 170.94965289, 175.7919962 , 175.70960255,\n",
       "         170.04997772, 168.57442713, 172.98202952, 172.11003009,\n",
       "         177.1171607 , 175.82117729, 178.27238829, 184.34548672,\n",
       "         171.93322705, 173.48475951, 181.11275194, 180.07909788,\n",
       "         189.21256832, 194.63374973, 203.06389735, 205.42215142,\n",
       "         199.64152404, 206.81732411, 215.55494154, 213.96914991,\n",
       "         222.6846622 , 215.8947009 , 225.3942593 , 224.22100809,\n",
       "         218.96240521, 209.44465154, 207.80235733, 204.59286728,\n",
       "         198.98022919, 179.76783299, 167.84709513, 167.84673102,\n",
       "         162.21856709, 160.27452595, 161.26153319, 167.13930349,\n",
       "         161.49498185, 159.22097777, 167.7609043 , 165.40653444,\n",
       "         169.68639806, 167.70368649, 177.46132583, 179.89825839,\n",
       "         175.8469253 , 168.30490263, 172.24127894, 175.29935085,\n",
       "         174.58527258, 178.42973727, 183.40911725, 183.38766057,\n",
       "         176.52495636, 178.71393374, 184.25279386, 183.06495211,\n",
       "         186.18273961, 188.68076579, 186.23191081, 178.94352797,\n",
       "         193.32702147, 202.02750674, 197.39801368, 208.36261072,\n",
       "         201.38208984, 210.65881348, 204.12282297, 212.51133546,\n",
       "         204.79696321, 212.29791303, 214.38955778, 204.79799313,\n",
       "         203.26813192, 194.83050747, 192.80113477, 189.03205454,\n",
       "         191.49828523, 163.63187636, 161.41533466, 161.34964862,\n",
       "         160.05549617, 159.47774193, 156.31791435, 156.88265414,\n",
       "         162.41728895, 162.19704439, 165.94481099, 171.52984149,\n",
       "         172.80286625, 166.20322093, 166.68363597, 168.58278093,\n",
       "         181.7246249 , 169.95406298, 175.34169203, 174.36227916,\n",
       "         169.89512864, 173.61302754, 172.42896216, 174.1063595 ,\n",
       "         171.29966984, 173.24465927, 174.76064517, 177.56031264,\n",
       "         170.59763131, 166.64125272, 172.09004787, 186.08693462,\n",
       "         185.76564708, 183.9500275 , 181.96436753, 188.12123282,\n",
       "         188.22897396, 186.78818658, 196.05196469, 201.59665663,\n",
       "         201.22187997, 205.70089019, 205.27890883, 204.24326646,\n",
       "         206.05907368, 195.86142938, 196.99090896, 194.22671653],\n",
       "        [183.10495862, 180.30126218, 175.01143671, 167.92821386,\n",
       "         166.44275271, 167.06166909, 162.98368408, 166.82115114,\n",
       "         175.69280119, 177.80738064, 180.44720431, 181.97069079,\n",
       "         183.25118612, 179.55469103, 180.95328129, 184.23922646,\n",
       "         180.46420751, 180.79314209, 181.81766201, 184.41080418,\n",
       "         184.84670433, 181.92493673, 187.1619215 , 185.00931672,\n",
       "         186.78692371, 180.03974587, 181.23515388, 184.22495804,\n",
       "         179.93834499, 184.85591697, 186.0545972 , 182.67555061,\n",
       "         186.36592455, 180.86818802, 179.92808124, 186.8397882 ,\n",
       "         196.98420486, 190.44910327, 197.13754279, 195.87374151,\n",
       "         204.34411611, 212.30810458, 211.01307924, 211.78255121,\n",
       "         219.69460264, 210.0571904 , 217.60877405, 218.6744108 ,\n",
       "         210.54750078, 189.18530198, 176.14632284, 176.91208502,\n",
       "         176.77636859, 171.21755966, 174.46468033, 177.04780144,\n",
       "         185.41986665, 180.14856634, 185.12122868, 183.05611308,\n",
       "         195.23287554, 189.05886002, 187.37770753, 181.94229664,\n",
       "         184.12267727, 189.23445668, 187.23982706, 191.09762661,\n",
       "         187.04011678, 187.82145531, 184.13627983, 184.26210349,\n",
       "         186.9028546 , 183.61969178, 184.62133468, 178.80995098,\n",
       "         184.7419028 , 187.49713419, 187.88223877, 193.59160328,\n",
       "         200.50850394, 205.25888812, 202.10556789, 211.75689183,\n",
       "         205.82534429, 208.30462448, 204.99611144, 211.33014725,\n",
       "         222.00394598, 218.24747597, 217.66132939, 211.59891667,\n",
       "         209.23763629, 208.59250407, 208.62477923, 209.98979591,\n",
       "         211.88951677, 171.42258169, 178.41452126, 184.19501815,\n",
       "         171.11770452, 172.45408449, 174.6459598 , 180.9338049 ,\n",
       "         187.05495593, 184.0963996 , 183.86453782, 183.18750142,\n",
       "         180.49234007, 188.83337147, 179.07962407, 182.04859635,\n",
       "         188.29159966, 184.72891854, 189.96157523, 189.8725403 ,\n",
       "         183.75672575, 182.16223954, 186.92511334, 185.98282706,\n",
       "         191.39355359, 189.99310843, 192.64189742, 199.20451328,\n",
       "         185.79177295, 187.46836549, 195.7112064 , 194.59423545,\n",
       "         204.46390227, 210.32205384, 219.43170705, 221.98004638,\n",
       "         215.73347596, 223.48767589, 232.92958227, 231.21596913,\n",
       "         240.6339886 , 233.29672767, 243.5619907 , 242.29417048,\n",
       "         236.61170194, 226.32677703, 224.55210696, 221.08391843,\n",
       "         215.01887795, 194.25788129, 181.37628149, 181.37588803,\n",
       "         175.29407027, 173.19333119, 174.25989538, 180.61143885,\n",
       "         174.512161  , 172.05486256, 181.28314332, 178.73900128,\n",
       "         183.36384003, 181.22131351, 191.76545989, 194.39881953,\n",
       "         190.02093184, 181.87099022, 186.12465512, 189.42922058,\n",
       "         188.65758457, 192.81192939, 198.19266847, 198.16948229,\n",
       "         190.75361507, 193.1190333 , 199.10434899, 197.82076217,\n",
       "         201.18985654, 203.88923421, 201.24299115, 193.36713379,\n",
       "         208.90999776, 218.31177897, 213.30912917, 225.15751915,\n",
       "         217.61433873, 227.63880557, 220.57598656, 229.64064866,\n",
       "         221.30446536, 229.41002348, 231.67026365, 221.30557829,\n",
       "         219.65240379, 210.5346711 , 208.34172237, 204.26883831,\n",
       "         206.93385763, 176.82129825, 174.42609391, 174.35511329,\n",
       "         172.95664668, 172.332323  , 168.91779994, 169.52806015,\n",
       "         175.50880995, 175.27081275, 179.3206652 , 185.3558728 ,\n",
       "         186.73150875, 179.59990407, 180.1190426 , 182.17126669,\n",
       "         196.37239891, 183.65307988, 189.47497463, 188.41661694,\n",
       "         183.58939517, 187.60697246, 186.32746641, 188.14006907,\n",
       "         185.10714834, 187.20891216, 188.84709293, 191.87242545,\n",
       "         184.34852254, 180.07324308, 185.96123418, 201.08632926,\n",
       "         200.73914459, 198.77717838, 196.63146581, 203.28460051,\n",
       "         203.40102604, 201.84410509, 211.85458293, 217.84620051,\n",
       "         217.44121527, 222.28125267, 221.82525783, 220.7061383 ,\n",
       "         222.66830727, 211.64868967, 212.86921009, 209.88221204]]))"
      ]
     },
     "execution_count": 25,
     "metadata": {},
     "output_type": "execute_result"
    }
   ],
   "source": [
    "from scipy import stats\n",
    "\n",
    "\n",
    "dice = np.array([eff,eff_silver])\n",
    "stats.chi2_contingency(dice)\n",
    "chi2_stat, p_val, dof, ex = stats.chi2_contingency(dice)\n",
    "chi2_stat, p_val, dof, ex"
   ]
  }
 ],
 "metadata": {
  "kernelspec": {
   "display_name": "Python 3",
   "language": "python",
   "name": "python3"
  },
  "language_info": {
   "codemirror_mode": {
    "name": "ipython",
    "version": 3
   },
   "file_extension": ".py",
   "mimetype": "text/x-python",
   "name": "python",
   "nbconvert_exporter": "python",
   "pygments_lexer": "ipython3",
   "version": "3.5.2"
  }
 },
 "nbformat": 4,
 "nbformat_minor": 1
}

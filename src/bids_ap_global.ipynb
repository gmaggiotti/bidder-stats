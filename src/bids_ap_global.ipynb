{
 "cells": [
  {
   "cell_type": "markdown",
   "metadata": {},
   "source": [
    "# Asia Pacific Bids Histogram\n",
    " Histograma aproximado con Presto"
   ]
  },
  {
   "cell_type": "code",
   "execution_count": 14,
   "metadata": {},
   "outputs": [
    {
     "data": {
      "text/plain": [
       "'done'"
      ]
     },
     "execution_count": 14,
     "metadata": {},
     "output_type": "execute_result"
    }
   ],
   "source": [
    "from stats_util import get_presto_bidrate_histogram, get_stats\n",
    "%matplotlib inline\n",
    "import pandas as pd\n",
    "from matplotlib import pyplot as plt\n",
    "from matplotlib.ticker import FuncFormatter\n",
    "import numpy as np\n",
    "import math\n",
    "\n",
    "x_silver, y_silver = get_presto_bidrate_histogram(24,\"20181220\",\"20181225\")\n",
    "x, y = get_presto_bidrate_histogram(24,\"20181213\",\"20181218\")\n",
    "\"done\""
   ]
  },
  {
   "cell_type": "code",
   "execution_count": 15,
   "metadata": {
    "scrolled": false
   },
   "outputs": [
    {
     "data": {
      "image/png": "[encoded data removed]",
      "text/plain": [
       "<Figure size 432x288 with 1 Axes>"
      ]
     },
     "metadata": {
      "needs_background": "light"
     },
     "output_type": "display_data"
    }
   ],
   "source": [
    "def millions(x, pos):\n",
    "    'The two args are the value and tick position'\n",
    "    return '$%1.1fM' % (x * 1e-6)\n",
    "\n",
    "plt.bar(x_silver, y_silver)\n",
    "plt.plot(x_silver, y_silver,'r--', label=\"silver\")\n",
    "\n",
    "plt.bar(x, y)\n",
    "plt.plot(x, y,'g--', label=\"before silver\")\n",
    "\n",
    "plt.xlabel('bid')\n",
    "plt.ylabel('freq')\n",
    "plt.legend()\n",
    "plt.show()\n"
   ]
  },
  {
   "cell_type": "code",
   "execution_count": 17,
   "metadata": {},
   "outputs": [
    {
     "data": {
      "text/plain": [
       "'silver(108.6679483864993, 44.69097646762796)  no_silver(107.87292400943733, 65.83243755653598)'"
      ]
     },
     "execution_count": 17,
     "metadata": {},
     "output_type": "execute_result"
    }
   ],
   "source": [
    "s_mean, s_var= get_stats(x_silver, y_silver)\n",
    "mean, var= get_stats(x, y)\n",
    "\n",
    "\"silver\"+ str( (s_mean,s_var) ) +\"  no_silver\"+str((mean,var)) \n",
    "                                                                                 \n",
    "                                                                                 "
   ]
  },
  {
   "cell_type": "markdown",
   "metadata": {},
   "source": [
    "  ### Use Chi Square Test\n",
    "Determine whether there is a significant difference between the expected frequencies and the observed frequencies in one or more categories.\n",
    "\n",
    "H0: Both distribution frequencies of Non-Silver and Silver are equals\n",
    "H1: Samples form Silver and Non-Silver belongs to two diferent distributions\n",
    "\n",
    "PD: try  Kolmogorov–Smirnov test \n"
   ]
  },
  {
   "cell_type": "code",
   "execution_count": 13,
   "metadata": {},
   "outputs": [
    {
     "data": {
      "text/plain": [
       "(78.66351658115656,\n",
       " 2.674098571444265e-12,\n",
       " 11,\n",
       " array([[64.88281694, 64.69180718, 61.98616886, 64.16828042, 57.74895225,\n",
       "         54.00826101, 52.13816541, 41.22810767, 27.63691286, 15.22477832,\n",
       "          9.02996163,  5.62278745],\n",
       "        [64.87618306, 64.68519282, 61.97983114, 64.16171958, 57.74304775,\n",
       "         54.00273899, 52.13283459, 41.22389233, 27.63408714, 15.22322168,\n",
       "          9.02903837,  5.62221255]]))"
      ]
     },
     "execution_count": 13,
     "metadata": {},
     "output_type": "execute_result"
    }
   ],
   "source": [
    "from scipy import stats\n",
    "\n",
    "\n",
    "dice = np.array([np.array(y)/1000,np.array(y_silver)/1000])\n",
    "stats.chi2_contingency(dice)\n",
    "chi2_stat, p_val, dof, ex = stats.chi2_contingency(dice)\n",
    "chi2_stat, p_val, dof, ex\n"
   ]
  }
 ],
 "metadata": {
  "kernelspec": {
   "display_name": "Python 3",
   "language": "python",
   "name": "python3"
  },
  "language_info": {
   "codemirror_mode": {
    "name": "ipython",
    "version": 3
   },
   "file_extension": ".py",
   "mimetype": "text/x-python",
   "name": "python",
   "nbconvert_exporter": "python",
   "pygments_lexer": "ipython3",
   "version": "3.5.2"
  }
 },
 "nbformat": 4,
 "nbformat_minor": 2
}

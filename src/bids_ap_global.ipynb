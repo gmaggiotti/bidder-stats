{
 "cells": [
  {
   "cell_type": "markdown",
   "metadata": {},
   "source": [
    "# Asia Pacific Bids Histogram\n",
    " Histograma aproximado con Presto"
   ]
  },
  {
   "cell_type": "code",
   "execution_count": 1,
   "metadata": {},
   "outputs": [
    {
     "data": {
      "text/plain": [
       "'done'"
      ]
     },
     "execution_count": 1,
     "metadata": {},
     "output_type": "execute_result"
    }
   ],
   "source": [
    "from stats_util import get_presto_bidrate_histogram, get_stats\n",
    "%matplotlib inline\n",
    "import pandas as pd\n",
    "from matplotlib import pyplot as plt\n",
    "from matplotlib.ticker import FuncFormatter\n",
    "import numpy as np\n",
    "import math\n",
    "\n",
    "x_silver, y_silver = get_presto_bidrate_histogram(24,\"20181220\",\"20181225\",'ap-southeast-1')\n",
    "x, y = get_presto_bidrate_histogram(24,\"20181213\",\"20181218\",'ap-southeast-1')\n",
    "\"done\""
   ]
  },
  {
   "cell_type": "code",
   "execution_count": 2,
   "metadata": {
    "scrolled": false
   },
   "outputs": [
    {
     "data": {
      "image/png": "[encoded data removed]",
      "text/plain": [
       "<Figure size 432x288 with 1 Axes>"
      ]
     },
     "metadata": {
      "needs_background": "light"
     },
     "output_type": "display_data"
    }
   ],
   "source": [
    "def millions(x, pos):\n",
    "    'The two args are the value and tick position'\n",
    "    return '$%1.1fM' % (x * 1e-6)\n",
    "\n",
    "plt.bar(x_silver, y_silver)\n",
    "plt.plot(x_silver, y_silver,'r--', label=\"silver\")\n",
    "\n",
    "plt.bar(x, y)\n",
    "plt.plot(x, y,'g--', label=\"before silver\")\n",
    "\n",
    "plt.xlabel('bid')\n",
    "plt.ylabel('freq')\n",
    "plt.legend()\n",
    "plt.show()\n"
   ]
  },
  {
   "cell_type": "code",
   "execution_count": 3,
   "metadata": {},
   "outputs": [
    {
     "data": {
      "text/plain": [
       "'silver(108.61910733647943, 44.66133942542555)  no_silver(107.86498561829747, 65.86158057593316)'"
      ]
     },
     "execution_count": 3,
     "metadata": {},
     "output_type": "execute_result"
    }
   ],
   "source": [
    "s_mean, s_var= get_stats(x_silver, y_silver)\n",
    "mean, var= get_stats(x, y)\n",
    "\n",
    "\"silver\"+ str( (s_mean,s_var) ) +\"  no_silver\"+str((mean,var)) \n",
    "                                                                                 \n",
    "                                                                                 "
   ]
  },
  {
   "cell_type": "markdown",
   "metadata": {},
   "source": [
    "  ### Use Chi Square Test\n",
    "Determine whether there is a significant difference between the expected frequencies and the observed frequencies in one or more categories.\n",
    "\n",
    "H0: Both distribution frequencies of Non-Silver and Silver are equals\n",
    "H1: Samples form Silver and Non-Silver belongs to two diferent distributions\n",
    "\n",
    "PD: try  Kolmogorov–Smirnov test \n"
   ]
  },
  {
   "cell_type": "code",
   "execution_count": 4,
   "metadata": {},
   "outputs": [
    {
     "data": {
      "text/plain": [
       "(70.7542638774492,\n",
       " 9.295652566058685e-07,\n",
       " 23,\n",
       " array([[11.03706424, 23.74721401, 20.90556874, 30.42605544, 29.96853205,\n",
       "         30.59456406, 29.78302257, 29.84552577, 34.02173926, 38.41496385,\n",
       "         37.55391983, 34.53976574, 32.29765112, 26.563858  , 21.20508405,\n",
       "         19.29948663, 17.64440202, 14.533743  , 10.85905514,  8.42643078,\n",
       "          6.15531467,  4.36772329,  3.66318727,  2.51312848],\n",
       "        [11.03593576, 23.74478599, 20.90343126, 30.42294456, 29.96546795,\n",
       "         30.59143594, 29.77997743, 29.84247423, 34.01826074, 38.41103615,\n",
       "         37.55008017, 34.53623426, 32.29434888, 26.561142  , 21.20291595,\n",
       "         19.29751337, 17.64259798, 14.532257  , 10.85794486,  8.42556922,\n",
       "          6.15468533,  4.36727671,  3.66281273,  2.51287152]]))"
      ]
     },
     "execution_count": 4,
     "metadata": {},
     "output_type": "execute_result"
    }
   ],
   "source": [
    "from scipy import stats\n",
    "\n",
    "\n",
    "dice = np.array([np.array(y)/1000,np.array(y_silver)/1000])\n",
    "stats.chi2_contingency(dice)\n",
    "chi2_stat, p_val, dof, ex = stats.chi2_contingency(dice)\n",
    "chi2_stat, p_val, dof, ex\n"
   ]
  }
 ],
 "metadata": {
  "kernelspec": {
   "display_name": "Python 3",
   "language": "python",
   "name": "python3"
  },
  "language_info": {
   "codemirror_mode": {
    "name": "ipython",
    "version": 3
   },
   "file_extension": ".py",
   "mimetype": "text/x-python",
   "name": "python",
   "nbconvert_exporter": "python",
   "pygments_lexer": "ipython3",
   "version": "3.5.2"
  }
 },
 "nbformat": 4,
 "nbformat_minor": 2
}

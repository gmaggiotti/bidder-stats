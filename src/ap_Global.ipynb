{
 "cells": [
  {
   "cell_type": "markdown",
   "metadata": {},
   "source": [
    "# Asia Pacific Bids Histogram\n",
    " Histograma aproximado con Presto"
   ]
  },
  {
   "cell_type": "code",
   "execution_count": 1,
   "metadata": {},
   "outputs": [
    {
     "data": {
      "text/plain": [
       "[(20.05, 255),\n",
       " (65.16, 3315),\n",
       " (76.72, 3855),\n",
       " (89.08, 4883),\n",
       " (100.05, 6820),\n",
       " (110.92, 7876),\n",
       " (122.61, 8573),\n",
       " (135.13, 7350),\n",
       " (148.26, 5223),\n",
       " (162.93, 4371),\n",
       " (178.28, 4096),\n",
       " (193.44, 3814),\n",
       " (208.73, 3159),\n",
       " (227.29, 2943),\n",
       " (246.91, 3550),\n",
       " (268.23, 3202),\n",
       " (294.92, 2238),\n",
       " (325.34, 1717),\n",
       " (357.35, 988),\n",
       " (389.81, 1015),\n",
       " (415.54, 1525),\n",
       " (439.25, 1973),\n",
       " (465.11, 2217),\n",
       " (498.12, 1442)]"
      ]
     },
     "execution_count": 1,
     "metadata": {},
     "output_type": "execute_result"
    }
   ],
   "source": [
    "from stats_util import get_presto_bidrate_histogram\n",
    "%matplotlib inline\n",
    "import pandas as pd\n",
    "from matplotlib import pyplot as plt\n",
    "from matplotlib.ticker import FuncFormatter\n",
    "import numpy as np\n",
    "\n",
    "hist = get_presto_bidrate_histogram(24,2018,12,10)\n",
    "hist"
   ]
  },
  {
   "cell_type": "code",
   "execution_count": 20,
   "metadata": {},
   "outputs": [
    {
     "data": {
      "text/plain": [
       "[255,\n",
       " 3315,\n",
       " 3855,\n",
       " 4883,\n",
       " 6820,\n",
       " 7876,\n",
       " 8573,\n",
       " 7350,\n",
       " 5223,\n",
       " 4371,\n",
       " 4096,\n",
       " 3814,\n",
       " 3159,\n",
       " 2943,\n",
       " 3550,\n",
       " 3202,\n",
       " 2238,\n",
       " 1717,\n",
       " 988,\n",
       " 1015,\n",
       " 1525,\n",
       " 1973,\n",
       " 2217,\n",
       " 1442]"
      ]
     },
     "execution_count": 20,
     "metadata": {},
     "output_type": "execute_result"
    }
   ],
   "source": [
    "xvals = [x[0] for x in hist]\n",
    "\n",
    "yvals = [x[1] for x in hist]"
   ]
  },
  {
   "cell_type": "code",
   "execution_count": 36,
   "metadata": {},
   "outputs": [
    {
     "data": {
      "image/png": "[encoded data removed]",
      "text/plain": [
       "<Figure size 432x288 with 1 Axes>"
      ]
     },
     "metadata": {
      "needs_background": "light"
     },
     "output_type": "display_data"
    }
   ],
   "source": [
    "def millions(x, pos):\n",
    "    'The two args are the value and tick position'\n",
    "    return '$%1.1fM' % (x * 1e-6)\n",
    "\n",
    "\n",
    "formatter = FuncFormatter(millions)\n",
    "\n",
    "fig, ax = plt.subplots()\n",
    "ax.yaxis.set_major_formatter(formatter)\n",
    "plt.bar(xvals, yvals)\n",
    "plt.plot(xvals, yvals,'r--')\n",
    "plt.xlabel('bid')\n",
    "plt.ylabel('freq')\n",
    "plt.show()"
   ]
  }
 ],
 "metadata": {
  "kernelspec": {
   "display_name": "Python 3",
   "language": "python",
   "name": "python3"
  },
  "language_info": {
   "codemirror_mode": {
    "name": "ipython",
    "version": 3
   },
   "file_extension": ".py",
   "mimetype": "text/x-python",
   "name": "python",
   "nbconvert_exporter": "python",
   "pygments_lexer": "ipython3",
   "version": "3.5.2"
  }
 },
 "nbformat": 4,
 "nbformat_minor": 2
}
